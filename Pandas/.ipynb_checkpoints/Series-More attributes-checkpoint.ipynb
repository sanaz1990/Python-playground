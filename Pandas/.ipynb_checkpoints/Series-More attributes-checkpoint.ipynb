{
 "cells": [
  {
   "cell_type": "code",
   "execution_count": 2,
   "metadata": {},
   "outputs": [],
   "source": [
    "import pandas as pd\n",
    "pokemon=pd.read_csv(\"pokemon.csv\",usecols=[\"Pokemon\"],squeeze=True)\n",
    "google=pd.read_csv(\"google_stock_price.csv\", squeeze=True)\n"
   ]
  },
  {
   "cell_type": "code",
   "execution_count": 3,
   "metadata": {},
   "outputs": [
    {
     "data": {
      "text/plain": [
       "array(['Bulbasaur', 'Ivysaur', 'Venusaur', 'Charmander', 'Charmeleon',\n",
       "       'Charizard', 'Squirtle', 'Wartortle', 'Blastoise', 'Caterpie',\n",
       "       'Metapod', 'Butterfree', 'Weedle', 'Kakuna', 'Beedrill', 'Pidgey',\n",
       "       'Pidgeotto', 'Pidgeot', 'Rattata', 'Raticate', 'Spearow', 'Fearow',\n",
       "       'Ekans', 'Arbok', 'Pikachu', 'Raichu', 'Sandshrew', 'Sandslash',\n",
       "       'Nidoran', 'Nidorina', 'Nidoqueen', 'Nidoran♂', 'Nidorino',\n",
       "       'Nidoking', 'Clefairy', 'Clefable', 'Vulpix', 'Ninetales',\n",
       "       'Jigglypuff', 'Wigglytuff', 'Zubat', 'Golbat', 'Oddish', 'Gloom',\n",
       "       'Vileplume', 'Paras', 'Parasect', 'Venonat', 'Venomoth', 'Diglett',\n",
       "       'Dugtrio', 'Meowth', 'Persian', 'Psyduck', 'Golduck', 'Mankey',\n",
       "       'Primeape', 'Growlithe', 'Arcanine', 'Poliwag', 'Poliwhirl',\n",
       "       'Poliwrath', 'Abra', 'Kadabra', 'Alakazam', 'Machop', 'Machoke',\n",
       "       'Machamp', 'Bellsprout', 'Weepinbell', 'Victreebel', 'Tentacool',\n",
       "       'Tentacruel', 'Geodude', 'Graveler', 'Golem', 'Ponyta', 'Rapidash',\n",
       "       'Slowpoke', 'Slowbro', 'Magnemite', 'Magneton', \"Farfetch'd\",\n",
       "       'Doduo', 'Dodrio', 'Seel', 'Dewgong', 'Grimer', 'Muk', 'Shellder',\n",
       "       'Cloyster', 'Gastly', 'Haunter', 'Gengar', 'Onix', 'Drowzee',\n",
       "       'Hypno', 'Krabby', 'Kingler', 'Voltorb', 'Electrode', 'Exeggcute',\n",
       "       'Exeggutor', 'Cubone', 'Marowak', 'Hitmonlee', 'Hitmonchan',\n",
       "       'Lickitung', 'Koffing', 'Weezing', 'Rhyhorn', 'Rhydon', 'Chansey',\n",
       "       'Tangela', 'Kangaskhan', 'Horsea', 'Seadra', 'Goldeen', 'Seaking',\n",
       "       'Staryu', 'Starmie', 'Mr. Mime', 'Scyther', 'Jynx', 'Electabuzz',\n",
       "       'Magmar', 'Pinsir', 'Tauros', 'Magikarp', 'Gyarados', 'Lapras',\n",
       "       'Ditto', 'Eevee', 'Vaporeon', 'Jolteon', 'Flareon', 'Porygon',\n",
       "       'Omanyte', 'Omastar', 'Kabuto', 'Kabutops', 'Aerodactyl',\n",
       "       'Snorlax', 'Articuno', 'Zapdos', 'Moltres', 'Dratini', 'Dragonair',\n",
       "       'Dragonite', 'Mewtwo', 'Mew', 'Chikorita', 'Bayleef', 'Meganium',\n",
       "       'Cyndaquil', 'Quilava', 'Typhlosion', 'Totodile', 'Croconaw',\n",
       "       'Feraligatr', 'Sentret', 'Furret', 'Hoothoot', 'Noctowl', 'Ledyba',\n",
       "       'Ledian', 'Spinarak', 'Ariados', 'Crobat', 'Chinchou', 'Lanturn',\n",
       "       'Pichu', 'Cleffa', 'Igglybuff', 'Togepi', 'Togetic', 'Natu',\n",
       "       'Xatu', 'Mareep', 'Flaaffy', 'Ampharos', 'Bellossom', 'Marill',\n",
       "       'Azumarill', 'Sudowoodo', 'Politoed', 'Hoppip', 'Skiploom',\n",
       "       'Jumpluff', 'Aipom', 'Sunkern', 'Sunflora', 'Yanma', 'Wooper',\n",
       "       'Quagsire', 'Espeon', 'Umbreon', 'Murkrow', 'Slowking',\n",
       "       'Misdreavus', 'Unown', 'Wobbuffet', 'Girafarig', 'Pineco',\n",
       "       'Forretress', 'Dunsparce', 'Gligar', 'Steelix', 'Snubbull',\n",
       "       'Granbull', 'Qwilfish', 'Scizor', 'Shuckle', 'Heracross',\n",
       "       'Sneasel', 'Teddiursa', 'Ursaring', 'Slugma', 'Magcargo', 'Swinub',\n",
       "       'Piloswine', 'Corsola', 'Remoraid', 'Octillery', 'Delibird',\n",
       "       'Mantine', 'Skarmory', 'Houndour', 'Houndoom', 'Kingdra', 'Phanpy',\n",
       "       'Donphan', 'Porygon2', 'Stantler', 'Smeargle', 'Tyrogue',\n",
       "       'Hitmontop', 'Smoochum', 'Elekid', 'Magby', 'Miltank', 'Blissey',\n",
       "       'Raikou', 'Entei', 'Suicune', 'Larvitar', 'Pupitar', 'Tyranitar',\n",
       "       'Lugia', 'Ho-oh', 'Celebi', 'Treecko', 'Grovyle', 'Sceptile',\n",
       "       'Torchic', 'Combusken', 'Blaziken', 'Mudkip', 'Marshtomp',\n",
       "       'Swampert', 'Poochyena', 'Mightyena', 'Zigzagoon', 'Linoone',\n",
       "       'Wurmple', 'Silcoon', 'Beautifly', 'Cascoon', 'Dustox', 'Lotad',\n",
       "       'Lombre', 'Ludicolo', 'Seedot', 'Nuzleaf', 'Shiftry', 'Taillow',\n",
       "       'Swellow', 'Wingull', 'Pelipper', 'Ralts', 'Kirlia', 'Gardevoir',\n",
       "       'Surskit', 'Masquerain', 'Shroomish', 'Breloom', 'Slakoth',\n",
       "       'Vigoroth', 'Slaking', 'Nincada', 'Ninjask', 'Shedinja', 'Whismur',\n",
       "       'Loudred', 'Exploud', 'Makuhita', 'Hariyama', 'Azurill',\n",
       "       'Nosepass', 'Skitty', 'Delcatty', 'Sableye', 'Mawile', 'Aron',\n",
       "       'Lairon', 'Aggron', 'Meditite', 'Medicham', 'Electrike',\n",
       "       'Manectric', 'Plusle', 'Minun', 'Volbeat', 'Illumise', 'Roselia',\n",
       "       'Gulpin', 'Swalot', 'Carvanha', 'Sharpedo', 'Wailmer', 'Wailord',\n",
       "       'Numel', 'Camerupt', 'Torkoal', 'Spoink', 'Grumpig', 'Spinda',\n",
       "       'Trapinch', 'Vibrava', 'Flygon', 'Cacnea', 'Cacturne', 'Swablu',\n",
       "       'Altaria', 'Zangoose', 'Seviper', 'Lunatone', 'Solrock',\n",
       "       'Barboach', 'Whiscash', 'Corphish', 'Crawdaunt', 'Baltoy',\n",
       "       'Claydol', 'Lileep', 'Cradily', 'Anorith', 'Armaldo', 'Feebas',\n",
       "       'Milotic', 'Castform', 'Kecleon', 'Shuppet', 'Banette', 'Duskull',\n",
       "       'Dusclops', 'Tropius', 'Chimecho', 'Absol', 'Wynaut', 'Snorunt',\n",
       "       'Glalie', 'Spheal', 'Sealeo', 'Walrein', 'Clamperl', 'Huntail',\n",
       "       'Gorebyss', 'Relicanth', 'Luvdisc', 'Bagon', 'Shelgon',\n",
       "       'Salamence', 'Beldum', 'Metang', 'Metagross', 'Regirock', 'Regice',\n",
       "       'Registeel', 'Latias', 'Latios', 'Kyogre', 'Groudon', 'Rayquaza',\n",
       "       'Jirachi', 'Deoxys', 'Turtwig', 'Grotle', 'Torterra', 'Chimchar',\n",
       "       'Monferno', 'Infernape', 'Piplup', 'Prinplup', 'Empoleon',\n",
       "       'Starly', 'Staravia', 'Staraptor', 'Bidoof', 'Bibarel',\n",
       "       'Kricketot', 'Kricketune', 'Shinx', 'Luxio', 'Luxray', 'Budew',\n",
       "       'Roserade', 'Cranidos', 'Rampardos', 'Shieldon', 'Bastiodon',\n",
       "       'Burmy', 'Wormadam', 'Mothim', 'Combee', 'Vespiquen', 'Pachirisu',\n",
       "       'Buizel', 'Floatzel', 'Cherubi', 'Cherrim', 'Shellos', 'Gastrodon',\n",
       "       'Ambipom', 'Drifloon', 'Drifblim', 'Buneary', 'Lopunny',\n",
       "       'Mismagius', 'Honchkrow', 'Glameow', 'Purugly', 'Chingling',\n",
       "       'Stunky', 'Skuntank', 'Bronzor', 'Bronzong', 'Bonsly', 'Mime Jr.',\n",
       "       'Happiny', 'Chatot', 'Spiritomb', 'Gible', 'Gabite', 'Garchomp',\n",
       "       'Munchlax', 'Riolu', 'Lucario', 'Hippopotas', 'Hippowdon',\n",
       "       'Skorupi', 'Drapion', 'Croagunk', 'Toxicroak', 'Carnivine',\n",
       "       'Finneon', 'Lumineon', 'Mantyke', 'Snover', 'Abomasnow', 'Weavile',\n",
       "       'Magnezone', 'Lickilicky', 'Rhyperior', 'Tangrowth', 'Electivire',\n",
       "       'Magmortar', 'Togekiss', 'Yanmega', 'Leafeon', 'Glaceon',\n",
       "       'Gliscor', 'Mamoswine', 'Porygon-Z', 'Gallade', 'Probopass',\n",
       "       'Dusknoir', 'Froslass', 'Rotom', 'Uxie', 'Mesprit', 'Azelf',\n",
       "       'Dialga', 'Palkia', 'Heatran', 'Regigigas', 'Giratina',\n",
       "       'Cresselia', 'Phione', 'Manaphy', 'Darkrai', 'Shaymin', 'Arceus',\n",
       "       'Victini', 'Snivy', 'Servine', 'Serperior', 'Tepig', 'Pignite',\n",
       "       'Emboar', 'Oshawott', 'Dewott', 'Samurott', 'Patrat', 'Watchog',\n",
       "       'Lillipup', 'Herdier', 'Stoutland', 'Purrloin', 'Liepard',\n",
       "       'Pansage', 'Simisage', 'Pansear', 'Simisear', 'Panpour',\n",
       "       'Simipour', 'Munna', 'Musharna', 'Pidove', 'Tranquill', 'Unfezant',\n",
       "       'Blitzle', 'Zebstrika', 'Roggenrola', 'Boldore', 'Gigalith',\n",
       "       'Woobat', 'Swoobat', 'Drilbur', 'Excadrill', 'Audino', 'Timburr',\n",
       "       'Gurdurr', 'Conkeldurr', 'Tympole', 'Palpitoad', 'Seismitoad',\n",
       "       'Throh', 'Sawk', 'Sewaddle', 'Swadloon', 'Leavanny', 'Venipede',\n",
       "       'Whirlipede', 'Scolipede', 'Cottonee', 'Whimsicott', 'Petilil',\n",
       "       'Lilligant', 'Basculin', 'Sandile', 'Krokorok', 'Krookodile',\n",
       "       'Darumaka', 'Darmanitan', 'Maractus', 'Dwebble', 'Crustle',\n",
       "       'Scraggy', 'Scrafty', 'Sigilyph', 'Yamask', 'Cofagrigus',\n",
       "       'Tirtouga', 'Carracosta', 'Archen', 'Archeops', 'Trubbish',\n",
       "       'Garbodor', 'Zorua', 'Zoroark', 'Minccino', 'Cinccino', 'Gothita',\n",
       "       'Gothorita', 'Gothitelle', 'Solosis', 'Duosion', 'Reuniclus',\n",
       "       'Ducklett', 'Swanna', 'Vanillite', 'Vanillish', 'Vanilluxe',\n",
       "       'Deerling', 'Sawsbuck', 'Emolga', 'Karrablast', 'Escavalier',\n",
       "       'Foongus', 'Amoonguss', 'Frillish', 'Jellicent', 'Alomomola',\n",
       "       'Joltik', 'Galvantula', 'Ferroseed', 'Ferrothorn', 'Klink',\n",
       "       'Klang', 'Klinklang', 'Tynamo', 'Eelektrik', 'Eelektross',\n",
       "       'Elgyem', 'Beheeyem', 'Litwick', 'Lampent', 'Chandelure', 'Axew',\n",
       "       'Fraxure', 'Haxorus', 'Cubchoo', 'Beartic', 'Cryogonal', 'Shelmet',\n",
       "       'Accelgor', 'Stunfisk', 'Mienfoo', 'Mienshao', 'Druddigon',\n",
       "       'Golett', 'Golurk', 'Pawniard', 'Bisharp', 'Bouffalant', 'Rufflet',\n",
       "       'Braviary', 'Vullaby', 'Mandibuzz', 'Heatmor', 'Durant', 'Deino',\n",
       "       'Zweilous', 'Hydreigon', 'Larvesta', 'Volcarona', 'Cobalion',\n",
       "       'Terrakion', 'Virizion', 'Tornadus', 'Thundurus', 'Reshiram',\n",
       "       'Zekrom', 'Landorus', 'Kyurem', 'Keldeo', 'Meloetta', 'Genesect',\n",
       "       'Chespin', 'Quilladin', 'Chesnaught', 'Fennekin', 'Braixen',\n",
       "       'Delphox', 'Froakie', 'Frogadier', 'Greninja', 'Bunnelby',\n",
       "       'Diggersby', 'Fletchling', 'Fletchinder', 'Talonflame',\n",
       "       'Scatterbug', 'Spewpa', 'Vivillon', 'Litleo', 'Pyroar', 'Flabébé',\n",
       "       'Floette', 'Florges', 'Skiddo', 'Gogoat', 'Pancham', 'Pangoro',\n",
       "       'Furfrou', 'Espurr', 'Meowstic', 'Honedge', 'Doublade',\n",
       "       'Aegislash', 'Spritzee', 'Aromatisse', 'Swirlix', 'Slurpuff',\n",
       "       'Inkay', 'Malamar', 'Binacle', 'Barbaracle', 'Skrelp', 'Dragalge',\n",
       "       'Clauncher', 'Clawitzer', 'Helioptile', 'Heliolisk', 'Tyrunt',\n",
       "       'Tyrantrum', 'Amaura', 'Aurorus', 'Sylveon', 'Hawlucha', 'Dedenne',\n",
       "       'Carbink', 'Goomy', 'Sliggoo', 'Goodra', 'Klefki', 'Phantump',\n",
       "       'Trevenant', 'Pumpkaboo', 'Gourgeist', 'Bergmite', 'Avalugg',\n",
       "       'Noibat', 'Noivern', 'Xerneas', 'Yveltal', 'Zygarde', 'Diancie',\n",
       "       'Hoopa', 'Volcanion'], dtype=object)"
      ]
     },
     "execution_count": 3,
     "metadata": {},
     "output_type": "execute_result"
    }
   ],
   "source": [
    "pokemon.values"
   ]
  },
  {
   "cell_type": "code",
   "execution_count": 4,
   "metadata": {},
   "outputs": [
    {
     "data": {
      "text/plain": [
       "numpy.ndarray"
      ]
     },
     "execution_count": 4,
     "metadata": {},
     "output_type": "execute_result"
    }
   ],
   "source": [
    "type(pokemon.values)"
   ]
  },
  {
   "cell_type": "code",
   "execution_count": 5,
   "metadata": {},
   "outputs": [
    {
     "data": {
      "text/plain": [
       "RangeIndex(start=0, stop=721, step=1)"
      ]
     },
     "execution_count": 5,
     "metadata": {},
     "output_type": "execute_result"
    }
   ],
   "source": [
    "pokemon.index"
   ]
  },
  {
   "cell_type": "code",
   "execution_count": 6,
   "metadata": {},
   "outputs": [
    {
     "data": {
      "text/plain": [
       "dtype('O')"
      ]
     },
     "execution_count": 6,
     "metadata": {},
     "output_type": "execute_result"
    }
   ],
   "source": [
    "pokemon.dtype"
   ]
  },
  {
   "cell_type": "code",
   "execution_count": 7,
   "metadata": {},
   "outputs": [
    {
     "data": {
      "text/plain": [
       "dtype('float64')"
      ]
     },
     "execution_count": 7,
     "metadata": {},
     "output_type": "execute_result"
    }
   ],
   "source": [
    "google.dtype"
   ]
  },
  {
   "cell_type": "code",
   "execution_count": 8,
   "metadata": {},
   "outputs": [
    {
     "data": {
      "text/plain": [
       "True"
      ]
     },
     "execution_count": 8,
     "metadata": {},
     "output_type": "execute_result"
    }
   ],
   "source": [
    "pokemon.is_unique\n"
   ]
  },
  {
   "cell_type": "code",
   "execution_count": 9,
   "metadata": {},
   "outputs": [
    {
     "data": {
      "text/plain": [
       "False"
      ]
     },
     "execution_count": 9,
     "metadata": {},
     "output_type": "execute_result"
    }
   ],
   "source": [
    "google.is_unique"
   ]
  },
  {
   "cell_type": "code",
   "execution_count": 10,
   "metadata": {},
   "outputs": [
    {
     "data": {
      "text/plain": [
       "1"
      ]
     },
     "execution_count": 10,
     "metadata": {},
     "output_type": "execute_result"
    }
   ],
   "source": [
    "google.ndim"
   ]
  },
  {
   "cell_type": "code",
   "execution_count": 15,
   "metadata": {},
   "outputs": [],
   "source": [
    "d=dict(google)"
   ]
  },
  {
   "cell_type": "markdown",
   "metadata": {},
   "source": []
  },
  {
   "cell_type": "code",
   "execution_count": 16,
   "metadata": {},
   "outputs": [
    {
     "data": {
      "text/plain": [
       "(3012,)"
      ]
     },
     "execution_count": 16,
     "metadata": {},
     "output_type": "execute_result"
    }
   ],
   "source": [
    "google.shape"
   ]
  },
  {
   "cell_type": "code",
   "execution_count": 17,
   "metadata": {},
   "outputs": [
    {
     "data": {
      "text/plain": [
       "3012"
      ]
     },
     "execution_count": 17,
     "metadata": {},
     "output_type": "execute_result"
    }
   ],
   "source": [
    "google.size\n"
   ]
  },
  {
   "cell_type": "code",
   "execution_count": 18,
   "metadata": {},
   "outputs": [
    {
     "data": {
      "text/plain": [
       "'Stock Price'"
      ]
     },
     "execution_count": 18,
     "metadata": {},
     "output_type": "execute_result"
    }
   ],
   "source": [
    "google.name"
   ]
  },
  {
   "cell_type": "code",
   "execution_count": 19,
   "metadata": {},
   "outputs": [
    {
     "data": {
      "text/plain": [
       "'Pokemon'"
      ]
     },
     "execution_count": 19,
     "metadata": {},
     "output_type": "execute_result"
    }
   ],
   "source": [
    "pokemon.name"
   ]
  },
  {
   "cell_type": "code",
   "execution_count": 20,
   "metadata": {},
   "outputs": [],
   "source": [
    "pokemon.name=\"Pocket Monsters\""
   ]
  },
  {
   "cell_type": "code",
   "execution_count": 21,
   "metadata": {},
   "outputs": [
    {
     "data": {
      "text/plain": [
       "0     Bulbasaur\n",
       "1       Ivysaur\n",
       "2      Venusaur\n",
       "3    Charmander\n",
       "4    Charmeleon\n",
       "Name: Pocket Monsters, dtype: object"
      ]
     },
     "execution_count": 21,
     "metadata": {},
     "output_type": "execute_result"
    }
   ],
   "source": [
    "pokemon.head()"
   ]
  },
  {
   "cell_type": "code",
   "execution_count": 22,
   "metadata": {},
   "outputs": [],
   "source": [
    "df=pd.read_csv(\"google_stock_price.csv\")"
   ]
  },
  {
   "cell_type": "code",
   "execution_count": 23,
   "metadata": {},
   "outputs": [
    {
     "data": {
      "text/plain": [
       "2"
      ]
     },
     "execution_count": 23,
     "metadata": {},
     "output_type": "execute_result"
    }
   ],
   "source": [
    "df.ndim"
   ]
  },
  {
   "cell_type": "code",
   "execution_count": 24,
   "metadata": {},
   "outputs": [
    {
     "data": {
      "text/plain": [
       "(3012, 1)"
      ]
     },
     "execution_count": 24,
     "metadata": {},
     "output_type": "execute_result"
    }
   ],
   "source": [
    "df.shape"
   ]
  },
  {
   "cell_type": "code",
   "execution_count": 25,
   "metadata": {},
   "outputs": [
    {
     "data": {
      "text/html": [
       "<div>\n",
       "<style scoped>\n",
       "    .dataframe tbody tr th:only-of-type {\n",
       "        vertical-align: middle;\n",
       "    }\n",
       "\n",
       "    .dataframe tbody tr th {\n",
       "        vertical-align: top;\n",
       "    }\n",
       "\n",
       "    .dataframe thead th {\n",
       "        text-align: right;\n",
       "    }\n",
       "</style>\n",
       "<table border=\"1\" class=\"dataframe\">\n",
       "  <thead>\n",
       "    <tr style=\"text-align: right;\">\n",
       "      <th></th>\n",
       "      <th>Stock Price</th>\n",
       "    </tr>\n",
       "  </thead>\n",
       "  <tbody>\n",
       "    <tr>\n",
       "      <th>0</th>\n",
       "      <td>50.12</td>\n",
       "    </tr>\n",
       "    <tr>\n",
       "      <th>1</th>\n",
       "      <td>54.10</td>\n",
       "    </tr>\n",
       "    <tr>\n",
       "      <th>2</th>\n",
       "      <td>54.65</td>\n",
       "    </tr>\n",
       "    <tr>\n",
       "      <th>3</th>\n",
       "      <td>52.38</td>\n",
       "    </tr>\n",
       "    <tr>\n",
       "      <th>4</th>\n",
       "      <td>52.95</td>\n",
       "    </tr>\n",
       "  </tbody>\n",
       "</table>\n",
       "</div>"
      ],
      "text/plain": [
       "   Stock Price\n",
       "0        50.12\n",
       "1        54.10\n",
       "2        54.65\n",
       "3        52.38\n",
       "4        52.95"
      ]
     },
     "execution_count": 25,
     "metadata": {},
     "output_type": "execute_result"
    }
   ],
   "source": [
    "df.head()"
   ]
  },
  {
   "cell_type": "code",
   "execution_count": 26,
   "metadata": {},
   "outputs": [],
   "source": [
    "df[\"test\"]=0"
   ]
  },
  {
   "cell_type": "code",
   "execution_count": 27,
   "metadata": {},
   "outputs": [
    {
     "data": {
      "text/html": [
       "<div>\n",
       "<style scoped>\n",
       "    .dataframe tbody tr th:only-of-type {\n",
       "        vertical-align: middle;\n",
       "    }\n",
       "\n",
       "    .dataframe tbody tr th {\n",
       "        vertical-align: top;\n",
       "    }\n",
       "\n",
       "    .dataframe thead th {\n",
       "        text-align: right;\n",
       "    }\n",
       "</style>\n",
       "<table border=\"1\" class=\"dataframe\">\n",
       "  <thead>\n",
       "    <tr style=\"text-align: right;\">\n",
       "      <th></th>\n",
       "      <th>Stock Price</th>\n",
       "      <th>test</th>\n",
       "    </tr>\n",
       "  </thead>\n",
       "  <tbody>\n",
       "    <tr>\n",
       "      <th>0</th>\n",
       "      <td>50.12</td>\n",
       "      <td>0</td>\n",
       "    </tr>\n",
       "    <tr>\n",
       "      <th>1</th>\n",
       "      <td>54.10</td>\n",
       "      <td>0</td>\n",
       "    </tr>\n",
       "    <tr>\n",
       "      <th>2</th>\n",
       "      <td>54.65</td>\n",
       "      <td>0</td>\n",
       "    </tr>\n",
       "    <tr>\n",
       "      <th>3</th>\n",
       "      <td>52.38</td>\n",
       "      <td>0</td>\n",
       "    </tr>\n",
       "    <tr>\n",
       "      <th>4</th>\n",
       "      <td>52.95</td>\n",
       "      <td>0</td>\n",
       "    </tr>\n",
       "    <tr>\n",
       "      <th>...</th>\n",
       "      <td>...</td>\n",
       "      <td>...</td>\n",
       "    </tr>\n",
       "    <tr>\n",
       "      <th>3007</th>\n",
       "      <td>772.88</td>\n",
       "      <td>0</td>\n",
       "    </tr>\n",
       "    <tr>\n",
       "      <th>3008</th>\n",
       "      <td>771.07</td>\n",
       "      <td>0</td>\n",
       "    </tr>\n",
       "    <tr>\n",
       "      <th>3009</th>\n",
       "      <td>773.18</td>\n",
       "      <td>0</td>\n",
       "    </tr>\n",
       "    <tr>\n",
       "      <th>3010</th>\n",
       "      <td>771.61</td>\n",
       "      <td>0</td>\n",
       "    </tr>\n",
       "    <tr>\n",
       "      <th>3011</th>\n",
       "      <td>782.22</td>\n",
       "      <td>0</td>\n",
       "    </tr>\n",
       "  </tbody>\n",
       "</table>\n",
       "<p>3012 rows × 2 columns</p>\n",
       "</div>"
      ],
      "text/plain": [
       "      Stock Price  test\n",
       "0           50.12     0\n",
       "1           54.10     0\n",
       "2           54.65     0\n",
       "3           52.38     0\n",
       "4           52.95     0\n",
       "...           ...   ...\n",
       "3007       772.88     0\n",
       "3008       771.07     0\n",
       "3009       773.18     0\n",
       "3010       771.61     0\n",
       "3011       782.22     0\n",
       "\n",
       "[3012 rows x 2 columns]"
      ]
     },
     "execution_count": 27,
     "metadata": {},
     "output_type": "execute_result"
    }
   ],
   "source": [
    "df\n"
   ]
  },
  {
   "cell_type": "code",
   "execution_count": 28,
   "metadata": {},
   "outputs": [
    {
     "data": {
      "text/plain": [
       "2"
      ]
     },
     "execution_count": 28,
     "metadata": {},
     "output_type": "execute_result"
    }
   ],
   "source": [
    "df.ndim"
   ]
  },
  {
   "cell_type": "code",
   "execution_count": null,
   "metadata": {},
   "outputs": [],
   "source": []
  }
 ],
 "metadata": {
  "kernelspec": {
   "display_name": "Python 3",
   "language": "python",
   "name": "python3"
  },
  "language_info": {
   "codemirror_mode": {
    "name": "ipython",
    "version": 3
   },
   "file_extension": ".py",
   "mimetype": "text/x-python",
   "name": "python",
   "nbconvert_exporter": "python",
   "pygments_lexer": "ipython3",
   "version": "3.7.4"
  }
 },
 "nbformat": 4,
 "nbformat_minor": 2
}
